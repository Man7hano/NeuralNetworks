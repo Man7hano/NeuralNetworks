{
 "cells": [
  {
   "cell_type": "code",
   "execution_count": 25,
   "id": "official-camping",
   "metadata": {},
   "outputs": [],
   "source": [
    "import numpy as np\n",
    "from scipy.special import expit"
   ]
  },
  {
   "cell_type": "code",
   "execution_count": 35,
   "id": "enormous-bookmark",
   "metadata": {},
   "outputs": [],
   "source": [
    "class neuralNetwork:\n",
    "    def __init__(self, inputNodes, hiddenNodes, outputNodes, learningRate):\n",
    "        self.inputNodes = inputNodes\n",
    "        self.hiddenNodes = hiddenNodes\n",
    "        self.outputNodes = outputNodes\n",
    "        self.learningRate = learningRate\n",
    "        \n",
    "        self.weightsInputHidden = np.random.normal(0.0,pow(self.hiddenNodes,-0.5), (self.hiddenNodes, self.outputNodes))\n",
    "        self.weightsOutputHidden = np.random.normal(0.0,pow(self.outputNodes,-0.5), (self.outputNodes, self.hiddenNodes))\n",
    "        self.activationFunction = lambda x: expit(x)\n",
    "        pass\n",
    "    def train():\n",
    "        pass\n",
    "    def query(self,inputList):\n",
    "        inputs = np.array(inputList, ndmin=2).T\n",
    "        hiddenInputs = np.dot(self.weightsInputHidden, inputs)\n",
    "        hiddenOutputs = np.dot(self.weightsOutputHidden, hiddenInputs)\n",
    "        finalOutputs = np.dot(self.weightsOutputHidden, hiddenOutputs)\n",
    "        finalOutputs = self.activationFunction(finalOutputs)\n",
    "        return finalOutputs"
   ]
  },
  {
   "cell_type": "code",
   "execution_count": 36,
   "id": "opening-square",
   "metadata": {},
   "outputs": [],
   "source": [
    "# Create a neural network\n",
    "inputNodes = 4\n",
    "hiddenNodes = 4\n",
    "outputNodes = 4\n",
    "learningRate = 0.2\n",
    "\n",
    "n = neuralNetwork(inputNodes,hiddenNodes,outputNodes,learningRate)"
   ]
  },
  {
   "cell_type": "code",
   "execution_count": 37,
   "id": "objective-riverside",
   "metadata": {},
   "outputs": [
    {
     "data": {
      "text/plain": [
       "0.9999546021312976"
      ]
     },
     "execution_count": 37,
     "metadata": {},
     "output_type": "execute_result"
    }
   ],
   "source": [
    "n.activationFunction(10)"
   ]
  },
  {
   "cell_type": "code",
   "execution_count": null,
   "id": "swedish-diagram",
   "metadata": {},
   "outputs": [],
   "source": []
  }
 ],
 "metadata": {
  "kernelspec": {
   "display_name": "Python 3",
   "language": "python",
   "name": "python3"
  },
  "language_info": {
   "codemirror_mode": {
    "name": "ipython",
    "version": 3
   },
   "file_extension": ".py",
   "mimetype": "text/x-python",
   "name": "python",
   "nbconvert_exporter": "python",
   "pygments_lexer": "ipython3",
   "version": "3.8.5"
  }
 },
 "nbformat": 4,
 "nbformat_minor": 5
}
