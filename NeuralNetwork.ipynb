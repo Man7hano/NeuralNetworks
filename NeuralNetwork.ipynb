{
 "cells": [
  {
   "cell_type": "markdown",
   "id": "encouraging-pennsylvania",
   "metadata": {},
   "source": [
    "# Create a neural network from scratch "
   ]
  },
  {
   "cell_type": "code",
   "execution_count": 31,
   "id": "attended-bridges",
   "metadata": {},
   "outputs": [],
   "source": [
    "from sklearn import datasets"
   ]
  },
  {
   "cell_type": "code",
   "execution_count": 35,
   "id": "roman-bulgaria",
   "metadata": {},
   "outputs": [
    {
     "name": "stdout",
     "output_type": "stream",
     "text": [
      "Collecting tensorflow\n",
      "  Downloading tensorflow-2.4.1-cp38-cp38-manylinux2010_x86_64.whl (394.4 MB)\n",
      "\u001b[K     |█▍                              | 17.8 MB 7.9 MB/s eta 0:00:48^C\n",
      "\n",
      "\u001b[31mERROR: Operation cancelled by user\u001b[0m\n",
      "\u001b[?25h"
     ]
    }
   ],
   "source": [
    "!pip install tensorflow"
   ]
  },
  {
   "cell_type": "code",
   "execution_count": 34,
   "id": "handmade-forth",
   "metadata": {},
   "outputs": [
    {
     "ename": "ModuleNotFoundError",
     "evalue": "No module named 'tensorflow'",
     "output_type": "error",
     "traceback": [
      "\u001b[0;31m---------------------------------------------------------------------------\u001b[0m",
      "\u001b[0;31mModuleNotFoundError\u001b[0m                       Traceback (most recent call last)",
      "\u001b[0;32m<ipython-input-34-0a2307f200e8>\u001b[0m in \u001b[0;36m<module>\u001b[0;34m\u001b[0m\n\u001b[0;32m----> 1\u001b[0;31m \u001b[0;32mimport\u001b[0m \u001b[0mtensorflow\u001b[0m\u001b[0;34m.\u001b[0m\u001b[0mcompat\u001b[0m\u001b[0;34m.\u001b[0m\u001b[0mv2\u001b[0m \u001b[0;32mas\u001b[0m \u001b[0mtf\u001b[0m\u001b[0;34m\u001b[0m\u001b[0;34m\u001b[0m\u001b[0m\n\u001b[0m\u001b[1;32m      2\u001b[0m \u001b[0;32mimport\u001b[0m \u001b[0mtensorflow_datasets\u001b[0m \u001b[0;32mas\u001b[0m \u001b[0mtfds\u001b[0m\u001b[0;34m\u001b[0m\u001b[0;34m\u001b[0m\u001b[0m\n\u001b[1;32m      3\u001b[0m \u001b[0;34m\u001b[0m\u001b[0m\n\u001b[1;32m      4\u001b[0m \u001b[0;31m# Construct a tf.data.Dataset\u001b[0m\u001b[0;34m\u001b[0m\u001b[0;34m\u001b[0m\u001b[0;34m\u001b[0m\u001b[0m\n\u001b[1;32m      5\u001b[0m \u001b[0mds\u001b[0m \u001b[0;34m=\u001b[0m \u001b[0mtfds\u001b[0m\u001b[0;34m.\u001b[0m\u001b[0mload\u001b[0m\u001b[0;34m(\u001b[0m\u001b[0;34m'mnist'\u001b[0m\u001b[0;34m,\u001b[0m \u001b[0msplit\u001b[0m\u001b[0;34m=\u001b[0m\u001b[0;34m'train'\u001b[0m\u001b[0;34m,\u001b[0m \u001b[0mshuffle_files\u001b[0m\u001b[0;34m=\u001b[0m\u001b[0;32mTrue\u001b[0m\u001b[0;34m)\u001b[0m\u001b[0;34m\u001b[0m\u001b[0;34m\u001b[0m\u001b[0m\n",
      "\u001b[0;31mModuleNotFoundError\u001b[0m: No module named 'tensorflow'"
     ]
    }
   ],
   "source": [
    "import tensorflow.compat.v2 as tf\n",
    "import tensorflow_datasets as tfds\n",
    "\n",
    "# Construct a tf.data.Dataset\n",
    "ds = tfds.load('mnist', split='train', shuffle_files=True)\n",
    "\n",
    "# Build your input pipeline\n",
    "ds = ds.shuffle(1024).batch(32).prefetch(tf.data.experimental.AUTOTUNE)\n",
    "for example in ds.take(1):\n",
    "  image, label = example[\"image\"], example[\"label\"]"
   ]
  },
  {
   "cell_type": "code",
   "execution_count": 26,
   "id": "enormous-bookmark",
   "metadata": {},
   "outputs": [],
   "source": [
    "import numpy as np\n",
    "from scipy.special import expit\n",
    "\n",
    "# We create a neural network class and define the number of input, hidden and output nodes\n",
    "# Note: We have a neural network with 3 layers\n",
    "class neuralNetwork:\n",
    "    # Initilaize the network with its nodes\n",
    "    def __init__(self, inputNodes, hiddenNodes, outputNodes, learningRate):\n",
    "        self.inputNodes = inputNodes\n",
    "        self.hiddenNodes = hiddenNodes\n",
    "        self.outputNodes = outputNodes\n",
    "        self.learningRate = learningRate\n",
    "        # Create random initial weights with mean=0, std= (1/(hiddenNodes)*0.5), size=(hiddenNodes, inputNodes)\n",
    "        self.weightsInputHidden = np.random.normal(0.0,pow(self.hiddenNodes,-0.5), (self.hiddenNodes, self.inputNodes))\n",
    "        self.weightsOutputHidden = np.random.normal(0.0,pow(self.outputNodes,-0.5), (self.outputNodes, self.hiddenNodes))\n",
    "        self.activationFunction = lambda x: expit(x)\n",
    "        pass\n",
    "    def train(self, inputList, targetList):\n",
    "        inputs = np.array(inputList, ndmin=2).T\n",
    "        targets = np.array(targetList, ndmin=2).T\n",
    "        hiddenInputs = np.dot(self.weightsInputHidden, inputs)\n",
    "        hiddenOutputs = self.activationFunction(hiddeninputs)\n",
    "        finalInputs = np.dot(self.weightsOutputHidden, hiddenOutputs)\n",
    "        finalOutputs = self.activationFunction(finalInputs)\n",
    "        \n",
    "        outputErrors = targets - finalInputs\n",
    "        hiddenErrors = np.dot(self.weightsOutputHidden.T, outputErrors)\n",
    "        self.weightsOutputHidden += self.learningRate +np.dot((outputErrors * finalOutputs *(1.0 - hiddenOutputs)), np.transpose(inputs))\n",
    "        self.weightsInputHidden += self.learningRate + np.dot((hiddenErrors * hiddenOutputs * (1.0 - hiddenOutputs)), np.transpose(inputs))\n",
    "        pass\n",
    "    def query(self,inputList):\n",
    "        inputs = np.array(inputList, ndmin=2).T\n",
    "        hiddenInputs = np.dot(self.weightsInputHidden, inputs)\n",
    "        hiddenOutputs = np.dot(self.weightsOutputHidden, hiddenInputs)\n",
    "        finalOutputs = np.dot(self.weightsOutputHidden, hiddenOutputs)\n",
    "        finalOutputs = self.activationFunction(finalOutputs)\n",
    "        return finalOutputs"
   ]
  },
  {
   "cell_type": "code",
   "execution_count": 27,
   "id": "opening-square",
   "metadata": {},
   "outputs": [],
   "source": [
    "# Create a neural network\n",
    "inputNodes = 4\n",
    "hiddenNodes = 4\n",
    "outputNodes = 4\n",
    "learningRate = 0.2\n",
    "\n",
    "n = neuralNetwork(inputNodes,hiddenNodes,outputNodes,learningRate)"
   ]
  },
  {
   "cell_type": "code",
   "execution_count": 28,
   "id": "objective-riverside",
   "metadata": {},
   "outputs": [
    {
     "ename": "TypeError",
     "evalue": "train() missing 2 required positional arguments: 'inputList' and 'targetList'",
     "output_type": "error",
     "traceback": [
      "\u001b[0;31m---------------------------------------------------------------------------\u001b[0m",
      "\u001b[0;31mTypeError\u001b[0m                                 Traceback (most recent call last)",
      "\u001b[0;32m<ipython-input-28-8fe5fe42d578>\u001b[0m in \u001b[0;36m<module>\u001b[0;34m\u001b[0m\n\u001b[0;32m----> 1\u001b[0;31m \u001b[0mn\u001b[0m\u001b[0;34m.\u001b[0m\u001b[0mtrain\u001b[0m\u001b[0;34m(\u001b[0m\u001b[0;34m)\u001b[0m\u001b[0;34m\u001b[0m\u001b[0;34m\u001b[0m\u001b[0m\n\u001b[0m",
      "\u001b[0;31mTypeError\u001b[0m: train() missing 2 required positional arguments: 'inputList' and 'targetList'"
     ]
    }
   ],
   "source": [
    "n.train()"
   ]
  },
  {
   "cell_type": "markdown",
   "id": "isolated-intersection",
   "metadata": {},
   "source": [
    "-----------------------------------------"
   ]
  },
  {
   "cell_type": "markdown",
   "id": "hollywood-kitty",
   "metadata": {},
   "source": [
    "# Appendix"
   ]
  },
  {
   "cell_type": "markdown",
   "id": "violent-annual",
   "metadata": {},
   "source": [
    "## Randomized normal distribution exampe"
   ]
  },
  {
   "cell_type": "code",
   "execution_count": 18,
   "id": "photographic-gazette",
   "metadata": {},
   "outputs": [
    {
     "data": {
      "text/plain": [
       "array([[ 0.47507082, -0.94191945,  0.18569299],\n",
       "       [-0.24711114,  0.55377173,  0.56514945],\n",
       "       [-0.34466996,  0.00531999,  0.46585348]])"
      ]
     },
     "execution_count": 18,
     "metadata": {},
     "output_type": "execute_result"
    }
   ],
   "source": [
    "# Draws a random number from a normal distribution\n",
    "# np.random.normal(mu, sigma, sizeOfVector)\n",
    "\n",
    "# Example values: input, hidden, output = 3\n",
    "inputN = 3\n",
    "hiddenN = 3\n",
    "outputN = 3\n",
    "\n",
    "np.random.normal(0.0,pow(hiddenN,-0.5), (hiddenN, inputN))"
   ]
  },
  {
   "cell_type": "code",
   "execution_count": 19,
   "id": "historical-crystal",
   "metadata": {},
   "outputs": [
    {
     "data": {
      "text/plain": [
       "0.5"
      ]
     },
     "execution_count": 19,
     "metadata": {},
     "output_type": "execute_result"
    }
   ],
   "source": [
    "pow(4, -0.5)"
   ]
  },
  {
   "cell_type": "code",
   "execution_count": null,
   "id": "relative-services",
   "metadata": {},
   "outputs": [],
   "source": []
  }
 ],
 "metadata": {
  "kernelspec": {
   "display_name": "Python 3",
   "language": "python",
   "name": "python3"
  },
  "language_info": {
   "codemirror_mode": {
    "name": "ipython",
    "version": 3
   },
   "file_extension": ".py",
   "mimetype": "text/x-python",
   "name": "python",
   "nbconvert_exporter": "python",
   "pygments_lexer": "ipython3",
   "version": "3.8.6"
  }
 },
 "nbformat": 4,
 "nbformat_minor": 5
}
